{
  "cells": [
    {
      "cell_type": "code",
      "source": [
        " # Libraries and pre-settings\n",
        "import pandas as pd\n",
        "import numpy as np\n",
        "import yfinance as yf\n",
        "import ta\n",
        "\n",
        "import warnings\n",
        "warnings.filterwarnings('ignore')"
      ],
      "metadata": {
        "id": "oOHyTQy7b5Cy",
        "colab": {
          "base_uri": "https://localhost:8080/",
          "height": 384
        },
        "outputId": "bf46ca43-432d-430e-bce2-896101abc6f7"
      },
      "execution_count": 1,
      "outputs": [
        {
          "output_type": "error",
          "ename": "ModuleNotFoundError",
          "evalue": "No module named 'ta'",
          "traceback": [
            "\u001b[0;31m---------------------------------------------------------------------------\u001b[0m",
            "\u001b[0;31mModuleNotFoundError\u001b[0m                       Traceback (most recent call last)",
            "\u001b[0;32m<ipython-input-1-d6fd4e317321>\u001b[0m in \u001b[0;36m<cell line: 0>\u001b[0;34m()\u001b[0m\n\u001b[1;32m      3\u001b[0m \u001b[0;32mimport\u001b[0m \u001b[0mnumpy\u001b[0m \u001b[0;32mas\u001b[0m \u001b[0mnp\u001b[0m\u001b[0;34m\u001b[0m\u001b[0;34m\u001b[0m\u001b[0m\n\u001b[1;32m      4\u001b[0m \u001b[0;32mimport\u001b[0m \u001b[0myfinance\u001b[0m \u001b[0;32mas\u001b[0m \u001b[0myf\u001b[0m\u001b[0;34m\u001b[0m\u001b[0;34m\u001b[0m\u001b[0m\n\u001b[0;32m----> 5\u001b[0;31m \u001b[0;32mimport\u001b[0m \u001b[0mta\u001b[0m\u001b[0;34m\u001b[0m\u001b[0;34m\u001b[0m\u001b[0m\n\u001b[0m\u001b[1;32m      6\u001b[0m \u001b[0;34m\u001b[0m\u001b[0m\n\u001b[1;32m      7\u001b[0m \u001b[0;32mimport\u001b[0m \u001b[0mwarnings\u001b[0m\u001b[0;34m\u001b[0m\u001b[0;34m\u001b[0m\u001b[0m\n",
            "\u001b[0;31mModuleNotFoundError\u001b[0m: No module named 'ta'",
            "",
            "\u001b[0;31m---------------------------------------------------------------------------\u001b[0;32m\nNOTE: If your import is failing due to a missing package, you can\nmanually install dependencies using either !pip or !apt.\n\nTo view examples of installing some common dependencies, click the\n\"Open Examples\" button below.\n\u001b[0;31m---------------------------------------------------------------------------\u001b[0m\n"
          ],
          "errorDetails": {
            "actions": [
              {
                "action": "open_url",
                "actionText": "Open Examples",
                "url": "/notebooks/snippets/importing_libraries.ipynb"
              }
            ]
          }
        }
      ]
    },
    {
      "cell_type": "code",
      "execution_count": null,
      "metadata": {
        "id": "XaxRVbYucCZh"
      },
      "outputs": [],
      "source": [
        "# Importing the dataset\n",
        "df = yf.download('ABEV', start='2012-01-01', end='2019-12-31', multi_level_index=False, interval='1wk', auto_adjust=False).astype(float)"
      ]
    },
    {
      "cell_type": "code",
      "source": [
        "# Features of the paper using TA\n",
        "\n",
        "macd = ta.trend.MACD(close=df['Adj Close'], window_fast=12, window_slow=26, window_sign=9)\n",
        "rsi = ta.momentum.RSIIndicator(close=df['Adj Close'], window=14)\n",
        "mfi = ta.volume.MFIIndicator(high=df['High'], low=df['Low'], close=df['Adj Close'], volume=df['Volume'], window=14)\n",
        "so = ta.momentum.stoch(high=df['High'], low=df['Low'], close=df['Adj Close'], window=14, smooth_window=3)\n",
        "\n",
        "\n",
        "df['MACD'] = macd.macd()\n",
        "df['RSI'] = rsi.rsi()\n",
        "df['MFI'] = mfi.money_flow_index()\n",
        "df['SO'] = so"
      ],
      "metadata": {
        "id": "TBkzBEPNcJSd"
      },
      "execution_count": null,
      "outputs": []
    },
    {
      "cell_type": "code",
      "source": [
        "# Return and target columns\n",
        "df['Return'] = df['Adj Close'].pct_change(1)\n",
        "df['Target'] = df['Return'].shift(-1)\n",
        "df['Target_cat'] = np.where(df['Target'] > 0, 1, 0)\n",
        "\n",
        "df.dropna(axis=0, inplace=True)"
      ],
      "metadata": {
        "id": "vBcvsNCJtE2U"
      },
      "execution_count": null,
      "outputs": []
    },
    {
      "cell_type": "code",
      "source": [
        "# Splitting the data\n",
        "\n",
        "half = int(len(df)*0.8)\n",
        "df_train = df.iloc[:half]\n",
        "df_test = df.iloc[half:]\n",
        "\n",
        "x_train = df_train[['MACD','RSI','MFI','SO']]\n",
        "y_train = df_train['Target']\n",
        "\n",
        "x_test = df_test[['MACD','RSI','MFI','SO']]\n",
        "y_test = df_test['Target']"
      ],
      "metadata": {
        "id": "Jv_tn7L11gYJ"
      },
      "execution_count": null,
      "outputs": []
    },
    {
      "cell_type": "code",
      "source": [
        "# Feature normalization, although the difference in the results is negligible.\n",
        "\n",
        "from sklearn.preprocessing import StandardScaler\n",
        "scaler = StandardScaler()\n",
        "\n",
        "x_train = pd.DataFrame(scaler.fit_transform(x_train), columns = x_train.columns, index = x_train.index)\n",
        "x_test = pd.DataFrame(scaler.transform(x_test), columns = x_test.columns, index = x_test.index)"
      ],
      "metadata": {
        "id": "Y2hjPGqbwFaC"
      },
      "execution_count": null,
      "outputs": []
    },
    {
      "cell_type": "code",
      "source": [
        "# Training the models\n",
        "\n",
        "import statsmodels.api as sm\n",
        "from sklearn.svm import SVR\n",
        "from sklearn.ensemble import RandomForestRegressor\n",
        "\n",
        "np.random.seed(42)\n",
        "\n",
        "x_train1 = sm.add_constant(x_train)\n",
        "x_test1 = sm.add_constant(x_test)\n",
        "\n",
        "svr = SVR(C=1.0, epsilon=0.2)\n",
        "reg = sm.OLS(y_train, x_train1).fit()\n",
        "rfr = RandomForestRegressor()\n",
        "\n",
        "svr.fit(x_train, y_train)\n",
        "rfr.fit(x_train, y_train)\n",
        "\n",
        "df_test['y_pred_lr'] = reg.predict(x_test1)\n",
        "df_test['y_pred_svr'] = svr.predict(x_test)\n",
        "df_test['y_pred_rfr'] = rfr.predict(x_test)"
      ],
      "metadata": {
        "id": "jFRZ9oG0ge4M"
      },
      "execution_count": null,
      "outputs": []
    },
    {
      "cell_type": "code",
      "source": [
        "print(reg.summary())"
      ],
      "metadata": {
        "id": "Yp3cALxqQ9_h"
      },
      "execution_count": null,
      "outputs": []
    },
    {
      "cell_type": "code",
      "source": [
        "# Trading rules\n",
        "\n",
        "df_test['Trade_lr'] = np.where(df_test['y_pred_lr'] >= 0, -1*df_test['Target'], df_test['Target'])\n",
        "df_test['Trade_svr'] = np.where(df_test['y_pred_svr'] >= 0, -1*df_test['Target'], df_test['Target'])\n",
        "df_test['Trade_rfr'] = np.where(df_test['y_pred_rfr'] >= 0, -1*df_test['Target'], df_test['Target'])"
      ],
      "metadata": {
        "id": "z38e78cC6DuG"
      },
      "execution_count": null,
      "outputs": []
    },
    {
      "cell_type": "code",
      "source": [
        "# Data viz\n",
        "\n",
        "import plotly.graph_objects as go\n",
        "\n",
        "fig = go.Figure()\n",
        "fig.add_scatter(y = df_test['Trade_svr'].cumsum() * 100, x = df_test.index, mode = \"lines\", name = \"Support Vector Regression\" , line = dict(color = \"blue\"))\n",
        "fig.add_scatter(y = df_test['Trade_rfr'].cumsum() * 100, x = df_test.index, mode = \"lines\", name = \"Random Forest Regression\" , line = dict(color = \"green\"))\n",
        "fig.add_scatter(y = df_test['Trade_lr'].cumsum() * 100, x = df_test.index, mode = \"lines\", name = \"Multiple Linear Regression\" , line = dict(color = \"red\"))\n",
        "fig.add_scatter(y = df_test['Return'].cumsum() * 100, x = df_test.index, mode = \"lines\", name = \"Buy & Hold\" , line = dict(color = \"black\"))\n",
        "\n",
        "fig.update_layout(\n",
        "    title='Paper Settings',\n",
        "    xaxis_title='Date',\n",
        "    yaxis_title='Accumulated Returns',\n",
        "    height=600,\n",
        "    width=1000\n",
        ")\n",
        "\n",
        "fig.show()"
      ],
      "metadata": {
        "id": "FPL5kyjbini7"
      },
      "execution_count": null,
      "outputs": []
    }
  ],
  "metadata": {
    "kernelspec": {
      "display_name": "Python 3",
      "language": "python",
      "name": "python3"
    },
    "language_info": {
      "codemirror_mode": {
        "name": "ipython",
        "version": 3
      },
      "file_extension": ".py",
      "mimetype": "text/x-python",
      "name": "python",
      "nbconvert_exporter": "python",
      "pygments_lexer": "ipython3",
      "version": "3.11.3"
    },
    "colab": {
      "provenance": []
    }
  },
  "nbformat": 4,
  "nbformat_minor": 0
}